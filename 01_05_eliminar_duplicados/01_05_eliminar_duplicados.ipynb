{
 "cells": [
  {
   "cell_type": "code",
   "execution_count": 1,
   "metadata": {},
   "outputs": [],
   "source": [
    "import pandas as pd"
   ]
  },
  {
   "cell_type": "code",
   "execution_count": 2,
   "metadata": {},
   "outputs": [],
   "source": [
    "df = pd.read_csv('empleados.csv', delimiter=\";\")"
   ]
  },
  {
   "cell_type": "code",
   "execution_count": 3,
   "metadata": {},
   "outputs": [
    {
     "name": "stdout",
     "output_type": "stream",
     "text": [
      "(145, 8)\n"
     ]
    }
   ],
   "source": [
    "print(df.shape)"
   ]
  },
  {
   "cell_type": "code",
   "execution_count": 4,
   "metadata": {},
   "outputs": [],
   "source": [
    "duplicados = df.duplicated()"
   ]
  },
  {
   "cell_type": "code",
   "execution_count": 5,
   "metadata": {},
   "outputs": [
    {
     "name": "stdout",
     "output_type": "stream",
     "text": [
      "    Nombre       Sexo Estado_Civil  Edad  Experiencia  Salario Gerencia  \\\n",
      "10  Selena   Femenino    Casado(a)    24            6     2709       Sí   \n",
      "34   Lucio  Masculino   Soltero(a)    54           12     3317       No   \n",
      "\n",
      "        Departamento  \n",
      "10      Contabilidad  \n",
      "34  Recursos Humanos  \n"
     ]
    }
   ],
   "source": [
    "print(df[duplicados])"
   ]
  },
  {
   "cell_type": "code",
   "execution_count": 6,
   "metadata": {},
   "outputs": [
    {
     "data": {
      "text/html": [
       "<div>\n",
       "<style scoped>\n",
       "    .dataframe tbody tr th:only-of-type {\n",
       "        vertical-align: middle;\n",
       "    }\n",
       "\n",
       "    .dataframe tbody tr th {\n",
       "        vertical-align: top;\n",
       "    }\n",
       "\n",
       "    .dataframe thead th {\n",
       "        text-align: right;\n",
       "    }\n",
       "</style>\n",
       "<table border=\"1\" class=\"dataframe\">\n",
       "  <thead>\n",
       "    <tr style=\"text-align: right;\">\n",
       "      <th></th>\n",
       "      <th>Nombre</th>\n",
       "      <th>Sexo</th>\n",
       "      <th>Estado_Civil</th>\n",
       "      <th>Edad</th>\n",
       "      <th>Experiencia</th>\n",
       "      <th>Salario</th>\n",
       "      <th>Gerencia</th>\n",
       "      <th>Departamento</th>\n",
       "    </tr>\n",
       "  </thead>\n",
       "  <tbody>\n",
       "    <tr>\n",
       "      <th>0</th>\n",
       "      <td>Alexandro</td>\n",
       "      <td>Masculino</td>\n",
       "      <td>Soltero(a)</td>\n",
       "      <td>22</td>\n",
       "      <td>3</td>\n",
       "      <td>2423</td>\n",
       "      <td>No</td>\n",
       "      <td>Publicidad</td>\n",
       "    </tr>\n",
       "    <tr>\n",
       "      <th>1</th>\n",
       "      <td>Felipa</td>\n",
       "      <td>Femenino</td>\n",
       "      <td>Soltero(a)</td>\n",
       "      <td>26</td>\n",
       "      <td>5</td>\n",
       "      <td>2639</td>\n",
       "      <td>No</td>\n",
       "      <td>Comercial</td>\n",
       "    </tr>\n",
       "    <tr>\n",
       "      <th>2</th>\n",
       "      <td>Daniel</td>\n",
       "      <td>Masculino</td>\n",
       "      <td>Casado(a)</td>\n",
       "      <td>35</td>\n",
       "      <td>10</td>\n",
       "      <td>3122</td>\n",
       "      <td>No</td>\n",
       "      <td>Comercial</td>\n",
       "    </tr>\n",
       "    <tr>\n",
       "      <th>3</th>\n",
       "      <td>John</td>\n",
       "      <td>Masculino</td>\n",
       "      <td>Casado(a)</td>\n",
       "      <td>35</td>\n",
       "      <td>13</td>\n",
       "      <td>3431</td>\n",
       "      <td>Sí</td>\n",
       "      <td>Servicios al cliente</td>\n",
       "    </tr>\n",
       "    <tr>\n",
       "      <th>4</th>\n",
       "      <td>Ruperta</td>\n",
       "      <td>Femenino</td>\n",
       "      <td>Casado(a)</td>\n",
       "      <td>54</td>\n",
       "      <td>18</td>\n",
       "      <td>3962</td>\n",
       "      <td>No</td>\n",
       "      <td>Producto</td>\n",
       "    </tr>\n",
       "    <tr>\n",
       "      <th>...</th>\n",
       "      <td>...</td>\n",
       "      <td>...</td>\n",
       "      <td>...</td>\n",
       "      <td>...</td>\n",
       "      <td>...</td>\n",
       "      <td>...</td>\n",
       "      <td>...</td>\n",
       "      <td>...</td>\n",
       "    </tr>\n",
       "    <tr>\n",
       "      <th>140</th>\n",
       "      <td>Hernando</td>\n",
       "      <td>Masculino</td>\n",
       "      <td>Divorciado(a)</td>\n",
       "      <td>29</td>\n",
       "      <td>4</td>\n",
       "      <td>2510</td>\n",
       "      <td>No</td>\n",
       "      <td>IT</td>\n",
       "    </tr>\n",
       "    <tr>\n",
       "      <th>141</th>\n",
       "      <td>Vito</td>\n",
       "      <td>Masculino</td>\n",
       "      <td>Divorciado(a)</td>\n",
       "      <td>22</td>\n",
       "      <td>4</td>\n",
       "      <td>2530</td>\n",
       "      <td>No</td>\n",
       "      <td>Producto</td>\n",
       "    </tr>\n",
       "    <tr>\n",
       "      <th>142</th>\n",
       "      <td>Jose</td>\n",
       "      <td>Masculino</td>\n",
       "      <td>Casado(a)</td>\n",
       "      <td>30</td>\n",
       "      <td>6</td>\n",
       "      <td>2760</td>\n",
       "      <td>No</td>\n",
       "      <td>Servicios al cliente</td>\n",
       "    </tr>\n",
       "    <tr>\n",
       "      <th>143</th>\n",
       "      <td>Marcelo</td>\n",
       "      <td>Masculino</td>\n",
       "      <td>Divorciado(a)</td>\n",
       "      <td>44</td>\n",
       "      <td>15</td>\n",
       "      <td>3616</td>\n",
       "      <td>No</td>\n",
       "      <td>IT</td>\n",
       "    </tr>\n",
       "    <tr>\n",
       "      <th>144</th>\n",
       "      <td>Leandro</td>\n",
       "      <td>Masculino</td>\n",
       "      <td>Casado(a)</td>\n",
       "      <td>37</td>\n",
       "      <td>11</td>\n",
       "      <td>3245</td>\n",
       "      <td>No</td>\n",
       "      <td>Finanzas</td>\n",
       "    </tr>\n",
       "  </tbody>\n",
       "</table>\n",
       "<p>143 rows × 8 columns</p>\n",
       "</div>"
      ],
      "text/plain": [
       "        Nombre       Sexo   Estado_Civil  Edad  Experiencia  Salario Gerencia  \\\n",
       "0    Alexandro  Masculino     Soltero(a)    22            3     2423       No   \n",
       "1       Felipa   Femenino     Soltero(a)    26            5     2639       No   \n",
       "2       Daniel  Masculino      Casado(a)    35           10     3122       No   \n",
       "3         John  Masculino      Casado(a)    35           13     3431       Sí   \n",
       "4      Ruperta   Femenino      Casado(a)    54           18     3962       No   \n",
       "..         ...        ...            ...   ...          ...      ...      ...   \n",
       "140   Hernando  Masculino  Divorciado(a)    29            4     2510       No   \n",
       "141       Vito  Masculino  Divorciado(a)    22            4     2530       No   \n",
       "142       Jose  Masculino      Casado(a)    30            6     2760       No   \n",
       "143    Marcelo  Masculino  Divorciado(a)    44           15     3616       No   \n",
       "144    Leandro  Masculino      Casado(a)    37           11     3245       No   \n",
       "\n",
       "             Departamento  \n",
       "0              Publicidad  \n",
       "1               Comercial  \n",
       "2               Comercial  \n",
       "3    Servicios al cliente  \n",
       "4                Producto  \n",
       "..                    ...  \n",
       "140                    IT  \n",
       "141              Producto  \n",
       "142  Servicios al cliente  \n",
       "143                    IT  \n",
       "144              Finanzas  \n",
       "\n",
       "[143 rows x 8 columns]"
      ]
     },
     "execution_count": 6,
     "metadata": {},
     "output_type": "execute_result"
    }
   ],
   "source": [
    "df.drop_duplicates()"
   ]
  },
  {
   "cell_type": "code",
   "execution_count": 7,
   "metadata": {},
   "outputs": [
    {
     "name": "stdout",
     "output_type": "stream",
     "text": [
      "        Nombre       Sexo   Estado_Civil  Edad  Experiencia  Salario Gerencia  \\\n",
      "0    Alexandro  Masculino     Soltero(a)    22            3     2423       No   \n",
      "1       Felipa   Femenino     Soltero(a)    26            5     2639       No   \n",
      "2       Daniel  Masculino      Casado(a)    35           10     3122       No   \n",
      "3         John  Masculino      Casado(a)    35           13     3431       Sí   \n",
      "4      Ruperta   Femenino      Casado(a)    54           18     3962       No   \n",
      "..         ...        ...            ...   ...          ...      ...      ...   \n",
      "140   Hernando  Masculino  Divorciado(a)    29            4     2510       No   \n",
      "141       Vito  Masculino  Divorciado(a)    22            4     2530       No   \n",
      "142       Jose  Masculino      Casado(a)    30            6     2760       No   \n",
      "143    Marcelo  Masculino  Divorciado(a)    44           15     3616       No   \n",
      "144    Leandro  Masculino      Casado(a)    37           11     3245       No   \n",
      "\n",
      "             Departamento  \n",
      "0              Publicidad  \n",
      "1               Comercial  \n",
      "2               Comercial  \n",
      "3    Servicios al cliente  \n",
      "4                Producto  \n",
      "..                    ...  \n",
      "140                    IT  \n",
      "141              Producto  \n",
      "142  Servicios al cliente  \n",
      "143                    IT  \n",
      "144              Finanzas  \n",
      "\n",
      "[145 rows x 8 columns]\n"
     ]
    }
   ],
   "source": [
    "print(df)"
   ]
  }
 ],
 "metadata": {
  "kernelspec": {
   "display_name": ".env",
   "language": "python",
   "name": "python3"
  },
  "language_info": {
   "codemirror_mode": {
    "name": "ipython",
    "version": 3
   },
   "file_extension": ".py",
   "mimetype": "text/x-python",
   "name": "python",
   "nbconvert_exporter": "python",
   "pygments_lexer": "ipython3",
   "version": "3.9.7"
  },
  "orig_nbformat": 4
 },
 "nbformat": 4,
 "nbformat_minor": 2
}
