{
 "cells": [
  {
   "cell_type": "code",
   "execution_count": 1,
   "metadata": {},
   "outputs": [],
   "source": [
    "import pandas as pd"
   ]
  },
  {
   "cell_type": "code",
   "execution_count": 2,
   "metadata": {},
   "outputs": [],
   "source": [
    "df = pd.read_csv('emisiones.csv', delimiter=\";\")"
   ]
  },
  {
   "cell_type": "code",
   "execution_count": 3,
   "metadata": {},
   "outputs": [
    {
     "name": "stdout",
     "output_type": "stream",
     "text": [
      "   Motor  Cilindros  Consumo Ciudad  Consumo Autopista  CO2\n",
      "0    2.1          4            13.7                9.1  290\n",
      "1    2.6          4            12.7                8.6  327\n",
      "2    2.0          4            13.7                9.4  382\n",
      "3    4.3          4            14.3                9.0  347\n",
      "4    3.6          4            14.6               10.4  377\n",
      "5    4.0          4             9.5                8.5  327\n",
      "6    4.2          6            10.2                9.9  382\n",
      "7    4.5          4            13.7               10.4  347\n",
      "8    4.4          6            18.4                7.1  377\n",
      "9    2.7          6            13.7                9.3  294\n"
     ]
    }
   ],
   "source": [
    "print(df.head(10))"
   ]
  },
  {
   "cell_type": "code",
   "execution_count": 4,
   "metadata": {},
   "outputs": [],
   "source": [
    "df = df.iloc[:,[0,1,3,2,4]]"
   ]
  },
  {
   "cell_type": "code",
   "execution_count": 5,
   "metadata": {},
   "outputs": [
    {
     "name": "stdout",
     "output_type": "stream",
     "text": [
      "    Motor  Cilindros  Consumo Autopista  Consumo Ciudad  CO2\n",
      "0     2.1          4                9.1            13.7  290\n",
      "1     2.6          4                8.6            12.7  327\n",
      "2     2.0          4                9.4            13.7  382\n",
      "3     4.3          4                9.0            14.3  347\n",
      "4     3.6          4               10.4            14.6  377\n",
      "..    ...        ...                ...             ...  ...\n",
      "94    3.7          4               10.3            16.7  248\n",
      "95    3.1          4                9.6            10.0  235\n",
      "96    3.6          4               10.2            11.5  239\n",
      "97    3.9          4               11.2             9.3  230\n",
      "98    2.1          4                7.2            12.2  278\n",
      "\n",
      "[99 rows x 5 columns]\n"
     ]
    }
   ],
   "source": [
    "print(df)"
   ]
  }
 ],
 "metadata": {
  "kernelspec": {
   "display_name": ".env",
   "language": "python",
   "name": "python3"
  },
  "language_info": {
   "codemirror_mode": {
    "name": "ipython",
    "version": 3
   },
   "file_extension": ".py",
   "mimetype": "text/x-python",
   "name": "python",
   "nbconvert_exporter": "python",
   "pygments_lexer": "ipython3",
   "version": "3.9.7"
  },
  "orig_nbformat": 4
 },
 "nbformat": 4,
 "nbformat_minor": 2
}
