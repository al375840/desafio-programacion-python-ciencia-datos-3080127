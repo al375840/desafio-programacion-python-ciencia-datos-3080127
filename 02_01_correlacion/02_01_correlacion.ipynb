{
 "cells": [
  {
   "cell_type": "code",
   "execution_count": 4,
   "metadata": {},
   "outputs": [],
   "source": [
    "import pandas as pd\n",
    "import seaborn as sns"
   ]
  },
  {
   "cell_type": "code",
   "execution_count": 5,
   "metadata": {},
   "outputs": [],
   "source": [
    "df = pd.read_csv('empleados.csv', delimiter=\";\")"
   ]
  },
  {
   "cell_type": "code",
   "execution_count": 6,
   "metadata": {},
   "outputs": [
    {
     "name": "stdout",
     "output_type": "stream",
     "text": [
      "       Nombre       Sexo   Estado_Civil  Edad  Experiencia  Salario Gerencia  \\\n",
      "0   Alexandro  Masculino     Soltero(a)    22            3     2423       No   \n",
      "1      Felipa   Femenino     Soltero(a)    26            5     2639       No   \n",
      "2      Daniel  Masculino      Casado(a)    35           10     3122       No   \n",
      "3        John  Masculino      Casado(a)    35           13     3431       Sí   \n",
      "4     Ruperta   Femenino      Casado(a)    54           18     3962       No   \n",
      "5   Francisca   Femenino     Soltero(a)    27            4     2564       No   \n",
      "6      Selena   Femenino      Casado(a)    24            6     2709       Sí   \n",
      "7      Ximena   Femenino     Soltero(a)    58           24     4532       No   \n",
      "8       David  Masculino  Divorciado(a)    20            1     1977       No   \n",
      "9         Max  Masculino  Divorciado(a)    39            8     2953       No   \n",
      "10      Paula   Femenino  Divorciado(a)    55           12     3306       No   \n",
      "11        Tim  Masculino  Divorciado(a)    22            4     2518       No   \n",
      "12     Gloria   Femenino      Casado(a)    31           11     3267       No   \n",
      "13      Jesse  Masculino     Soltero(a)    34           11     3257       No   \n",
      "14     Ronald  Masculino     Soltero(a)    23            5     2695       No   \n",
      "15     Manola   Femenino     Soltero(a)    40            9     3023       No   \n",
      "16    Isabela   Femenino      Casado(a)    66           12     3344       No   \n",
      "17   Herberto  Masculino      Casado(a)    28            3     2391       No   \n",
      "18      Lilia   Femenino  Divorciado(a)    42           16     3796       No   \n",
      "19   Agustina   Femenino      Casado(a)    21            3     2371       No   \n",
      "\n",
      "            Departamento  \n",
      "0             Publicidad  \n",
      "1              Comercial  \n",
      "2              Comercial  \n",
      "3   Servicios al cliente  \n",
      "4               Producto  \n",
      "5                     IT  \n",
      "6           Contabilidad  \n",
      "7                  Legal  \n",
      "8       Recursos Humanos  \n",
      "9                 Ventas  \n",
      "10              Producto  \n",
      "11      Recursos Humanos  \n",
      "12  Servicios al cliente  \n",
      "13            Publicidad  \n",
      "14  Servicios al cliente  \n",
      "15                    IT  \n",
      "16          Contabilidad  \n",
      "17  Servicios al cliente  \n",
      "18                Ventas  \n",
      "19  Servicios al cliente  \n"
     ]
    }
   ],
   "source": [
    "print(df.head(20))"
   ]
  },
  {
   "cell_type": "code",
   "execution_count": 7,
   "metadata": {},
   "outputs": [
    {
     "data": {
      "text/plain": [
       "np.float64(0.9921693470596841)"
      ]
     },
     "execution_count": 7,
     "metadata": {},
     "output_type": "execute_result"
    }
   ],
   "source": [
    "df['Experiencia'].corr(df['Salario'])"
   ]
  },
  {
   "cell_type": "code",
   "execution_count": 8,
   "metadata": {},
   "outputs": [
    {
     "data": {
      "text/plain": [
       "<Axes: >"
      ]
     },
     "execution_count": 8,
     "metadata": {},
     "output_type": "execute_result"
    },
    {
     "data": {
      "image/png": "[encoded data removed]",
      "text/plain": [
       "<Figure size 640x480 with 2 Axes>"
      ]
     },
     "metadata": {},
     "output_type": "display_data"
    }
   ],
   "source": [
    "sns.heatmap(df.corr(numeric_only=True), vmin=-1, vmax=1, annot=True)"
   ]
  }
 ],
 "metadata": {
  "kernelspec": {
   "display_name": ".env",
   "language": "python",
   "name": "python3"
  },
  "language_info": {
   "codemirror_mode": {
    "name": "ipython",
    "version": 3
   },
   "file_extension": ".py",
   "mimetype": "text/x-python",
   "name": "python",
   "nbconvert_exporter": "python",
   "pygments_lexer": "ipython3",
   "version": "3.9.7"
  },
  "orig_nbformat": 4
 },
 "nbformat": 4,
 "nbformat_minor": 2
}
