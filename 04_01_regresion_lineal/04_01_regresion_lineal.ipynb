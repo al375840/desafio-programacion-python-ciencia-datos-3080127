{
 "cells": [
  {
   "cell_type": "code",
   "execution_count": 1,
   "metadata": {},
   "outputs": [],
   "source": [
    "import pandas as pd\n",
    "from sklearn.linear_model import LinearRegression\n",
    "from sklearn.model_selection import train_test_split"
   ]
  },
  {
   "cell_type": "code",
   "execution_count": 2,
   "metadata": {},
   "outputs": [],
   "source": [
    "df = pd.read_csv('empleados.csv', delimiter=\";\")"
   ]
  },
  {
   "cell_type": "code",
   "execution_count": 3,
   "metadata": {},
   "outputs": [
    {
     "name": "stdout",
     "output_type": "stream",
     "text": [
      "      Nombre       Sexo Estado_Civil  Edad  Experiencia  Salario Gerencia  \\\n",
      "0  Alexandro  Masculino   Soltero(a)    22            3     2423       No   \n",
      "1     Felipa   Femenino   Soltero(a)    26            5     2639       No   \n",
      "2     Daniel  Masculino    Casado(a)    35           10     3122       No   \n",
      "3       John  Masculino    Casado(a)    35           13     3431       Sí   \n",
      "4    Ruperta   Femenino    Casado(a)    54           18     3962       No   \n",
      "\n",
      "           Departamento  \n",
      "0            Publicidad  \n",
      "1             Comercial  \n",
      "2             Comercial  \n",
      "3  Servicios al cliente  \n",
      "4              Producto  \n"
     ]
    }
   ],
   "source": [
    "print(df.head())"
   ]
  },
  {
   "cell_type": "code",
   "execution_count": 4,
   "metadata": {},
   "outputs": [],
   "source": [
    "y = df['Salario'].values.reshape(-1,1)\n",
    "X = df['Experiencia'].values.reshape(-1,1)"
   ]
  },
  {
   "cell_type": "code",
   "execution_count": 5,
   "metadata": {},
   "outputs": [],
   "source": [
    "X_train, X_test, y_train, y_test = train_test_split(X, y, test_size=0.20)"
   ]
  },
  {
   "cell_type": "code",
   "execution_count": 6,
   "metadata": {},
   "outputs": [],
   "source": [
    "regresion_lineal = LinearRegression()"
   ]
  },
  {
   "cell_type": "code",
   "execution_count": 7,
   "metadata": {},
   "outputs": [
    {
     "name": "stdout",
     "output_type": "stream",
     "text": [
      "Coeficiente de regresión:  [[107.538092]]\n",
      "Puntaje de regresión:  0.982298448970212\n",
      "Puntaje de regresión:  0.982298448970212\n",
      "Puntaje de regresión:  0.982298448970212\n"
     ]
    }
   ],
   "source": [
    "regresion_lineal.fit(X_train, y_train)\n",
    "\n",
    "print('Coeficiente de regresión: ', regresion_lineal.coef_)\n",
    "print('Puntaje de regresión: ',regresion_lineal.score(X_test, y_test))\n",
    "print('Puntaje de regresión: ',regresion_lineal.score(X_test, y_test))\n",
    "print('Puntaje de regresión: ',regresion_lineal.score(X_test, y_test))"
   ]
  }
 ],
 "metadata": {
  "kernelspec": {
   "display_name": ".env",
   "language": "python",
   "name": "python3"
  },
  "language_info": {
   "codemirror_mode": {
    "name": "ipython",
    "version": 3
   },
   "file_extension": ".py",
   "mimetype": "text/x-python",
   "name": "python",
   "nbconvert_exporter": "python",
   "pygments_lexer": "ipython3",
   "version": "3.9.7"
  },
  "orig_nbformat": 4
 },
 "nbformat": 4,
 "nbformat_minor": 2
}
